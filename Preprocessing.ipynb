{
  "nbformat": 4,
  "nbformat_minor": 0,
  "metadata": {
    "colab": {
      "provenance": []
    },
    "kernelspec": {
      "name": "python3",
      "display_name": "Python 3"
    },
    "language_info": {
      "name": "python"
    }
  },
  "cells": [
    {
      "cell_type": "code",
      "execution_count": 115,
      "metadata": {
        "id": "631R1yboXs9F"
      },
      "outputs": [],
      "source": [
        "import pandas as pd\n",
        "import numpy as np"
      ]
    },
    {
      "cell_type": "code",
      "source": [
        "df = pd.read_csv('/content/smartphones_data_price.csv')"
      ],
      "metadata": {
        "id": "I2YIXwtCYJpQ"
      },
      "execution_count": 116,
      "outputs": []
    },
    {
      "cell_type": "code",
      "source": [
        "df.sample(5)"
      ],
      "metadata": {
        "colab": {
          "base_uri": "https://localhost:8080/",
          "height": 226
        },
        "id": "do_1eskWYRot",
        "outputId": "51a05b5b-8183-4d7b-bc15-33120aae45a2"
      },
      "execution_count": 117,
      "outputs": [
        {
          "output_type": "execute_result",
          "data": {
            "text/plain": [
              "    brand_name  has_5g processor_brand  processor_speed  Battery  RAM  \\\n",
              "416      apple    True          bionic              NaN   3200.0    6   \n",
              "817        cat   False      snapdragon             1.30   2000.0    2   \n",
              "808     realme   False           tiger             1.82   5000.0    4   \n",
              "859     xiaomi    True       dimensity             2.00   5000.0    6   \n",
              "83        vivo    True      snapdragon             2.20   5000.0    8   \n",
              "\n",
              "     Storage  screen_size  num_rear_cameras       os  primary_camera_rear  \\\n",
              "416      256         6.10                 3      ios                 48.0   \n",
              "817       16         4.00                 1  android                  5.0   \n",
              "808       64         6.60                 3  android                 50.0   \n",
              "859       64         6.52                 3  android                 64.0   \n",
              "83       128         6.58                 3  android                 50.0   \n",
              "\n",
              "     primary_camera_front   price  \n",
              "416                  12.0  129990  \n",
              "817                   2.0   14999  \n",
              "808                   8.0   11399  \n",
              "859                  16.0   15999  \n",
              "83                   16.0   19990  "
            ],
            "text/html": [
              "\n",
              "  <div id=\"df-3d045e12-9364-41c1-aff9-e6c21e653eca\" class=\"colab-df-container\">\n",
              "    <div>\n",
              "<style scoped>\n",
              "    .dataframe tbody tr th:only-of-type {\n",
              "        vertical-align: middle;\n",
              "    }\n",
              "\n",
              "    .dataframe tbody tr th {\n",
              "        vertical-align: top;\n",
              "    }\n",
              "\n",
              "    .dataframe thead th {\n",
              "        text-align: right;\n",
              "    }\n",
              "</style>\n",
              "<table border=\"1\" class=\"dataframe\">\n",
              "  <thead>\n",
              "    <tr style=\"text-align: right;\">\n",
              "      <th></th>\n",
              "      <th>brand_name</th>\n",
              "      <th>has_5g</th>\n",
              "      <th>processor_brand</th>\n",
              "      <th>processor_speed</th>\n",
              "      <th>Battery</th>\n",
              "      <th>RAM</th>\n",
              "      <th>Storage</th>\n",
              "      <th>screen_size</th>\n",
              "      <th>num_rear_cameras</th>\n",
              "      <th>os</th>\n",
              "      <th>primary_camera_rear</th>\n",
              "      <th>primary_camera_front</th>\n",
              "      <th>price</th>\n",
              "    </tr>\n",
              "  </thead>\n",
              "  <tbody>\n",
              "    <tr>\n",
              "      <th>416</th>\n",
              "      <td>apple</td>\n",
              "      <td>True</td>\n",
              "      <td>bionic</td>\n",
              "      <td>NaN</td>\n",
              "      <td>3200.0</td>\n",
              "      <td>6</td>\n",
              "      <td>256</td>\n",
              "      <td>6.10</td>\n",
              "      <td>3</td>\n",
              "      <td>ios</td>\n",
              "      <td>48.0</td>\n",
              "      <td>12.0</td>\n",
              "      <td>129990</td>\n",
              "    </tr>\n",
              "    <tr>\n",
              "      <th>817</th>\n",
              "      <td>cat</td>\n",
              "      <td>False</td>\n",
              "      <td>snapdragon</td>\n",
              "      <td>1.30</td>\n",
              "      <td>2000.0</td>\n",
              "      <td>2</td>\n",
              "      <td>16</td>\n",
              "      <td>4.00</td>\n",
              "      <td>1</td>\n",
              "      <td>android</td>\n",
              "      <td>5.0</td>\n",
              "      <td>2.0</td>\n",
              "      <td>14999</td>\n",
              "    </tr>\n",
              "    <tr>\n",
              "      <th>808</th>\n",
              "      <td>realme</td>\n",
              "      <td>False</td>\n",
              "      <td>tiger</td>\n",
              "      <td>1.82</td>\n",
              "      <td>5000.0</td>\n",
              "      <td>4</td>\n",
              "      <td>64</td>\n",
              "      <td>6.60</td>\n",
              "      <td>3</td>\n",
              "      <td>android</td>\n",
              "      <td>50.0</td>\n",
              "      <td>8.0</td>\n",
              "      <td>11399</td>\n",
              "    </tr>\n",
              "    <tr>\n",
              "      <th>859</th>\n",
              "      <td>xiaomi</td>\n",
              "      <td>True</td>\n",
              "      <td>dimensity</td>\n",
              "      <td>2.00</td>\n",
              "      <td>5000.0</td>\n",
              "      <td>6</td>\n",
              "      <td>64</td>\n",
              "      <td>6.52</td>\n",
              "      <td>3</td>\n",
              "      <td>android</td>\n",
              "      <td>64.0</td>\n",
              "      <td>16.0</td>\n",
              "      <td>15999</td>\n",
              "    </tr>\n",
              "    <tr>\n",
              "      <th>83</th>\n",
              "      <td>vivo</td>\n",
              "      <td>True</td>\n",
              "      <td>snapdragon</td>\n",
              "      <td>2.20</td>\n",
              "      <td>5000.0</td>\n",
              "      <td>8</td>\n",
              "      <td>128</td>\n",
              "      <td>6.58</td>\n",
              "      <td>3</td>\n",
              "      <td>android</td>\n",
              "      <td>50.0</td>\n",
              "      <td>16.0</td>\n",
              "      <td>19990</td>\n",
              "    </tr>\n",
              "  </tbody>\n",
              "</table>\n",
              "</div>\n",
              "    <div class=\"colab-df-buttons\">\n",
              "\n",
              "  <div class=\"colab-df-container\">\n",
              "    <button class=\"colab-df-convert\" onclick=\"convertToInteractive('df-3d045e12-9364-41c1-aff9-e6c21e653eca')\"\n",
              "            title=\"Convert this dataframe to an interactive table.\"\n",
              "            style=\"display:none;\">\n",
              "\n",
              "  <svg xmlns=\"http://www.w3.org/2000/svg\" height=\"24px\" viewBox=\"0 -960 960 960\">\n",
              "    <path d=\"M120-120v-720h720v720H120Zm60-500h600v-160H180v160Zm220 220h160v-160H400v160Zm0 220h160v-160H400v160ZM180-400h160v-160H180v160Zm440 0h160v-160H620v160ZM180-180h160v-160H180v160Zm440 0h160v-160H620v160Z\"/>\n",
              "  </svg>\n",
              "    </button>\n",
              "\n",
              "  <style>\n",
              "    .colab-df-container {\n",
              "      display:flex;\n",
              "      gap: 12px;\n",
              "    }\n",
              "\n",
              "    .colab-df-convert {\n",
              "      background-color: #E8F0FE;\n",
              "      border: none;\n",
              "      border-radius: 50%;\n",
              "      cursor: pointer;\n",
              "      display: none;\n",
              "      fill: #1967D2;\n",
              "      height: 32px;\n",
              "      padding: 0 0 0 0;\n",
              "      width: 32px;\n",
              "    }\n",
              "\n",
              "    .colab-df-convert:hover {\n",
              "      background-color: #E2EBFA;\n",
              "      box-shadow: 0px 1px 2px rgba(60, 64, 67, 0.3), 0px 1px 3px 1px rgba(60, 64, 67, 0.15);\n",
              "      fill: #174EA6;\n",
              "    }\n",
              "\n",
              "    .colab-df-buttons div {\n",
              "      margin-bottom: 4px;\n",
              "    }\n",
              "\n",
              "    [theme=dark] .colab-df-convert {\n",
              "      background-color: #3B4455;\n",
              "      fill: #D2E3FC;\n",
              "    }\n",
              "\n",
              "    [theme=dark] .colab-df-convert:hover {\n",
              "      background-color: #434B5C;\n",
              "      box-shadow: 0px 1px 3px 1px rgba(0, 0, 0, 0.15);\n",
              "      filter: drop-shadow(0px 1px 2px rgba(0, 0, 0, 0.3));\n",
              "      fill: #FFFFFF;\n",
              "    }\n",
              "  </style>\n",
              "\n",
              "    <script>\n",
              "      const buttonEl =\n",
              "        document.querySelector('#df-3d045e12-9364-41c1-aff9-e6c21e653eca button.colab-df-convert');\n",
              "      buttonEl.style.display =\n",
              "        google.colab.kernel.accessAllowed ? 'block' : 'none';\n",
              "\n",
              "      async function convertToInteractive(key) {\n",
              "        const element = document.querySelector('#df-3d045e12-9364-41c1-aff9-e6c21e653eca');\n",
              "        const dataTable =\n",
              "          await google.colab.kernel.invokeFunction('convertToInteractive',\n",
              "                                                    [key], {});\n",
              "        if (!dataTable) return;\n",
              "\n",
              "        const docLinkHtml = 'Like what you see? Visit the ' +\n",
              "          '<a target=\"_blank\" href=https://colab.research.google.com/notebooks/data_table.ipynb>data table notebook</a>'\n",
              "          + ' to learn more about interactive tables.';\n",
              "        element.innerHTML = '';\n",
              "        dataTable['output_type'] = 'display_data';\n",
              "        await google.colab.output.renderOutput(dataTable, element);\n",
              "        const docLink = document.createElement('div');\n",
              "        docLink.innerHTML = docLinkHtml;\n",
              "        element.appendChild(docLink);\n",
              "      }\n",
              "    </script>\n",
              "  </div>\n",
              "\n",
              "\n",
              "<div id=\"df-e086f8fd-76a2-48a4-930a-c11e23681962\">\n",
              "  <button class=\"colab-df-quickchart\" onclick=\"quickchart('df-e086f8fd-76a2-48a4-930a-c11e23681962')\"\n",
              "            title=\"Suggest charts\"\n",
              "            style=\"display:none;\">\n",
              "\n",
              "<svg xmlns=\"http://www.w3.org/2000/svg\" height=\"24px\"viewBox=\"0 0 24 24\"\n",
              "     width=\"24px\">\n",
              "    <g>\n",
              "        <path d=\"M19 3H5c-1.1 0-2 .9-2 2v14c0 1.1.9 2 2 2h14c1.1 0 2-.9 2-2V5c0-1.1-.9-2-2-2zM9 17H7v-7h2v7zm4 0h-2V7h2v10zm4 0h-2v-4h2v4z\"/>\n",
              "    </g>\n",
              "</svg>\n",
              "  </button>\n",
              "\n",
              "<style>\n",
              "  .colab-df-quickchart {\n",
              "      --bg-color: #E8F0FE;\n",
              "      --fill-color: #1967D2;\n",
              "      --hover-bg-color: #E2EBFA;\n",
              "      --hover-fill-color: #174EA6;\n",
              "      --disabled-fill-color: #AAA;\n",
              "      --disabled-bg-color: #DDD;\n",
              "  }\n",
              "\n",
              "  [theme=dark] .colab-df-quickchart {\n",
              "      --bg-color: #3B4455;\n",
              "      --fill-color: #D2E3FC;\n",
              "      --hover-bg-color: #434B5C;\n",
              "      --hover-fill-color: #FFFFFF;\n",
              "      --disabled-bg-color: #3B4455;\n",
              "      --disabled-fill-color: #666;\n",
              "  }\n",
              "\n",
              "  .colab-df-quickchart {\n",
              "    background-color: var(--bg-color);\n",
              "    border: none;\n",
              "    border-radius: 50%;\n",
              "    cursor: pointer;\n",
              "    display: none;\n",
              "    fill: var(--fill-color);\n",
              "    height: 32px;\n",
              "    padding: 0;\n",
              "    width: 32px;\n",
              "  }\n",
              "\n",
              "  .colab-df-quickchart:hover {\n",
              "    background-color: var(--hover-bg-color);\n",
              "    box-shadow: 0 1px 2px rgba(60, 64, 67, 0.3), 0 1px 3px 1px rgba(60, 64, 67, 0.15);\n",
              "    fill: var(--button-hover-fill-color);\n",
              "  }\n",
              "\n",
              "  .colab-df-quickchart-complete:disabled,\n",
              "  .colab-df-quickchart-complete:disabled:hover {\n",
              "    background-color: var(--disabled-bg-color);\n",
              "    fill: var(--disabled-fill-color);\n",
              "    box-shadow: none;\n",
              "  }\n",
              "\n",
              "  .colab-df-spinner {\n",
              "    border: 2px solid var(--fill-color);\n",
              "    border-color: transparent;\n",
              "    border-bottom-color: var(--fill-color);\n",
              "    animation:\n",
              "      spin 1s steps(1) infinite;\n",
              "  }\n",
              "\n",
              "  @keyframes spin {\n",
              "    0% {\n",
              "      border-color: transparent;\n",
              "      border-bottom-color: var(--fill-color);\n",
              "      border-left-color: var(--fill-color);\n",
              "    }\n",
              "    20% {\n",
              "      border-color: transparent;\n",
              "      border-left-color: var(--fill-color);\n",
              "      border-top-color: var(--fill-color);\n",
              "    }\n",
              "    30% {\n",
              "      border-color: transparent;\n",
              "      border-left-color: var(--fill-color);\n",
              "      border-top-color: var(--fill-color);\n",
              "      border-right-color: var(--fill-color);\n",
              "    }\n",
              "    40% {\n",
              "      border-color: transparent;\n",
              "      border-right-color: var(--fill-color);\n",
              "      border-top-color: var(--fill-color);\n",
              "    }\n",
              "    60% {\n",
              "      border-color: transparent;\n",
              "      border-right-color: var(--fill-color);\n",
              "    }\n",
              "    80% {\n",
              "      border-color: transparent;\n",
              "      border-right-color: var(--fill-color);\n",
              "      border-bottom-color: var(--fill-color);\n",
              "    }\n",
              "    90% {\n",
              "      border-color: transparent;\n",
              "      border-bottom-color: var(--fill-color);\n",
              "    }\n",
              "  }\n",
              "</style>\n",
              "\n",
              "  <script>\n",
              "    async function quickchart(key) {\n",
              "      const quickchartButtonEl =\n",
              "        document.querySelector('#' + key + ' button');\n",
              "      quickchartButtonEl.disabled = true;  // To prevent multiple clicks.\n",
              "      quickchartButtonEl.classList.add('colab-df-spinner');\n",
              "      try {\n",
              "        const charts = await google.colab.kernel.invokeFunction(\n",
              "            'suggestCharts', [key], {});\n",
              "      } catch (error) {\n",
              "        console.error('Error during call to suggestCharts:', error);\n",
              "      }\n",
              "      quickchartButtonEl.classList.remove('colab-df-spinner');\n",
              "      quickchartButtonEl.classList.add('colab-df-quickchart-complete');\n",
              "    }\n",
              "    (() => {\n",
              "      let quickchartButtonEl =\n",
              "        document.querySelector('#df-e086f8fd-76a2-48a4-930a-c11e23681962 button');\n",
              "      quickchartButtonEl.style.display =\n",
              "        google.colab.kernel.accessAllowed ? 'block' : 'none';\n",
              "    })();\n",
              "  </script>\n",
              "</div>\n",
              "\n",
              "    </div>\n",
              "  </div>\n"
            ],
            "application/vnd.google.colaboratory.intrinsic+json": {
              "type": "dataframe",
              "summary": "{\n  \"name\": \"df\",\n  \"rows\": 5,\n  \"fields\": [\n    {\n      \"column\": \"brand_name\",\n      \"properties\": {\n        \"dtype\": \"string\",\n        \"num_unique_values\": 5,\n        \"samples\": [\n          \"cat\",\n          \"vivo\",\n          \"realme\"\n        ],\n        \"semantic_type\": \"\",\n        \"description\": \"\"\n      }\n    },\n    {\n      \"column\": \"has_5g\",\n      \"properties\": {\n        \"dtype\": \"boolean\",\n        \"num_unique_values\": 2,\n        \"samples\": [\n          false,\n          true\n        ],\n        \"semantic_type\": \"\",\n        \"description\": \"\"\n      }\n    },\n    {\n      \"column\": \"processor_brand\",\n      \"properties\": {\n        \"dtype\": \"string\",\n        \"num_unique_values\": 4,\n        \"samples\": [\n          \"snapdragon\",\n          \"dimensity\"\n        ],\n        \"semantic_type\": \"\",\n        \"description\": \"\"\n      }\n    },\n    {\n      \"column\": \"processor_speed\",\n      \"properties\": {\n        \"dtype\": \"number\",\n        \"std\": 0.38591881702416814,\n        \"min\": 1.3,\n        \"max\": 2.2,\n        \"num_unique_values\": 4,\n        \"samples\": [\n          1.82,\n          2.2\n        ],\n        \"semantic_type\": \"\",\n        \"description\": \"\"\n      }\n    },\n    {\n      \"column\": \"Battery\",\n      \"properties\": {\n        \"dtype\": \"number\",\n        \"std\": 1381.3037319865605,\n        \"min\": 2000.0,\n        \"max\": 5000.0,\n        \"num_unique_values\": 3,\n        \"samples\": [\n          3200.0,\n          2000.0\n        ],\n        \"semantic_type\": \"\",\n        \"description\": \"\"\n      }\n    },\n    {\n      \"column\": \"RAM\",\n      \"properties\": {\n        \"dtype\": \"number\",\n        \"std\": 2,\n        \"min\": 2,\n        \"max\": 8,\n        \"num_unique_values\": 4,\n        \"samples\": [\n          2,\n          8\n        ],\n        \"semantic_type\": \"\",\n        \"description\": \"\"\n      }\n    },\n    {\n      \"column\": \"Storage\",\n      \"properties\": {\n        \"dtype\": \"number\",\n        \"std\": 93,\n        \"min\": 16,\n        \"max\": 256,\n        \"num_unique_values\": 4,\n        \"samples\": [\n          16,\n          128\n        ],\n        \"semantic_type\": \"\",\n        \"description\": \"\"\n      }\n    },\n    {\n      \"column\": \"screen_size\",\n      \"properties\": {\n        \"dtype\": \"number\",\n        \"std\": 1.1145402639653714,\n        \"min\": 4.0,\n        \"max\": 6.6,\n        \"num_unique_values\": 5,\n        \"samples\": [\n          4.0,\n          6.58\n        ],\n        \"semantic_type\": \"\",\n        \"description\": \"\"\n      }\n    },\n    {\n      \"column\": \"num_rear_cameras\",\n      \"properties\": {\n        \"dtype\": \"number\",\n        \"std\": 0,\n        \"min\": 1,\n        \"max\": 3,\n        \"num_unique_values\": 2,\n        \"samples\": [\n          1,\n          3\n        ],\n        \"semantic_type\": \"\",\n        \"description\": \"\"\n      }\n    },\n    {\n      \"column\": \"os\",\n      \"properties\": {\n        \"dtype\": \"category\",\n        \"num_unique_values\": 2,\n        \"samples\": [\n          \"android\",\n          \"ios\"\n        ],\n        \"semantic_type\": \"\",\n        \"description\": \"\"\n      }\n    },\n    {\n      \"column\": \"primary_camera_rear\",\n      \"properties\": {\n        \"dtype\": \"number\",\n        \"std\": 22.400892839349062,\n        \"min\": 5.0,\n        \"max\": 64.0,\n        \"num_unique_values\": 4,\n        \"samples\": [\n          5.0,\n          64.0\n        ],\n        \"semantic_type\": \"\",\n        \"description\": \"\"\n      }\n    },\n    {\n      \"column\": \"primary_camera_front\",\n      \"properties\": {\n        \"dtype\": \"number\",\n        \"std\": 5.932958789676531,\n        \"min\": 2.0,\n        \"max\": 16.0,\n        \"num_unique_values\": 4,\n        \"samples\": [\n          2.0,\n          16.0\n        ],\n        \"semantic_type\": \"\",\n        \"description\": \"\"\n      }\n    },\n    {\n      \"column\": \"price\",\n      \"properties\": {\n        \"dtype\": \"number\",\n        \"std\": 51249,\n        \"min\": 11399,\n        \"max\": 129990,\n        \"num_unique_values\": 5,\n        \"samples\": [\n          14999,\n          19990\n        ],\n        \"semantic_type\": \"\",\n        \"description\": \"\"\n      }\n    }\n  ]\n}"
            }
          },
          "metadata": {},
          "execution_count": 117
        }
      ]
    },
    {
      "cell_type": "code",
      "source": [
        "sorted(df['processor_speed'].astype(str).unique())"
      ],
      "metadata": {
        "colab": {
          "base_uri": "https://localhost:8080/"
        },
        "id": "EEEOxMX_VJ35",
        "outputId": "c81b8891-4027-426d-c9a6-55d56c313817"
      },
      "execution_count": 118,
      "outputs": [
        {
          "output_type": "execute_result",
          "data": {
            "text/plain": [
              "['1.2',\n",
              " '1.3',\n",
              " '1.4',\n",
              " '1.5',\n",
              " '1.6',\n",
              " '1.8',\n",
              " '1.82',\n",
              " '1.95',\n",
              " '1.99',\n",
              " '2.0',\n",
              " '2.05',\n",
              " '2.1',\n",
              " '2.2',\n",
              " '2.3',\n",
              " '2.35',\n",
              " '2.36',\n",
              " '2.37',\n",
              " '2.4',\n",
              " '2.5',\n",
              " '2.6',\n",
              " '2.65',\n",
              " '2.7',\n",
              " '2.73',\n",
              " '2.8',\n",
              " '2.84',\n",
              " '2.85',\n",
              " '2.86',\n",
              " '2.9',\n",
              " '2.96',\n",
              " '3.0',\n",
              " '3.05',\n",
              " '3.1',\n",
              " '3.13',\n",
              " '3.2',\n",
              " '3.22',\n",
              " 'nan']"
            ]
          },
          "metadata": {},
          "execution_count": 118
        }
      ]
    },
    {
      "cell_type": "code",
      "source": [
        "df[\"screen_size\"] = df[\"screen_size\"].round(1)\n"
      ],
      "metadata": {
        "id": "ATnLF_F6WoET"
      },
      "execution_count": 119,
      "outputs": []
    },
    {
      "cell_type": "code",
      "source": [
        "df[\"processor_speed\"] = df[\"processor_speed\"].round(1)"
      ],
      "metadata": {
        "id": "nOdR0XWTXF15"
      },
      "execution_count": 120,
      "outputs": []
    },
    {
      "cell_type": "code",
      "source": [
        "sorted(df['processor_speed'].astype(str).unique())"
      ],
      "metadata": {
        "colab": {
          "base_uri": "https://localhost:8080/"
        },
        "id": "hP8WgC6LWqFs",
        "outputId": "c4c258ff-abbb-40a6-ccf2-6c74ad64aeb9"
      },
      "execution_count": 121,
      "outputs": [
        {
          "output_type": "execute_result",
          "data": {
            "text/plain": [
              "['1.2',\n",
              " '1.3',\n",
              " '1.4',\n",
              " '1.5',\n",
              " '1.6',\n",
              " '1.8',\n",
              " '2.0',\n",
              " '2.1',\n",
              " '2.2',\n",
              " '2.3',\n",
              " '2.4',\n",
              " '2.5',\n",
              " '2.6',\n",
              " '2.7',\n",
              " '2.8',\n",
              " '2.9',\n",
              " '3.0',\n",
              " '3.1',\n",
              " '3.2',\n",
              " 'nan']"
            ]
          },
          "metadata": {},
          "execution_count": 121
        }
      ]
    },
    {
      "cell_type": "code",
      "source": [
        "df.sample(5)"
      ],
      "metadata": {
        "colab": {
          "base_uri": "https://localhost:8080/",
          "height": 226
        },
        "id": "9C-zcAb7XR40",
        "outputId": "664a8658-7ae3-421a-a80c-e569b186b80c"
      },
      "execution_count": 122,
      "outputs": [
        {
          "output_type": "execute_result",
          "data": {
            "text/plain": [
              "    brand_name  has_5g processor_brand  processor_speed  Battery  RAM  \\\n",
              "823     realme    True       dimensity              2.0   5000.0    4   \n",
              "581       iqoo    True      snapdragon              3.2   4700.0    8   \n",
              "333       poco    True      snapdragon              3.2   4500.0    6   \n",
              "222   motorola    True      snapdragon              2.5   4020.0    8   \n",
              "175     xiaomi   False           helio              2.0   5000.0    6   \n",
              "\n",
              "     Storage  screen_size  num_rear_cameras       os  primary_camera_rear  \\\n",
              "823      128          6.5                 3  android                 13.0   \n",
              "581      128          6.6                 3  android                 64.0   \n",
              "333      128          6.7                 3  android                 64.0   \n",
              "222      128          6.5                 3  android                 50.0   \n",
              "175       64          6.4                 4  android                 64.0   \n",
              "\n",
              "     primary_camera_front  price  \n",
              "823                   8.0   9999  \n",
              "581                  16.0  22990  \n",
              "333                  20.0  25999  \n",
              "222                  32.0  24999  \n",
              "175                  13.0  11999  "
            ],
            "text/html": [
              "\n",
              "  <div id=\"df-df134337-e813-46b7-9eda-39177d1f5969\" class=\"colab-df-container\">\n",
              "    <div>\n",
              "<style scoped>\n",
              "    .dataframe tbody tr th:only-of-type {\n",
              "        vertical-align: middle;\n",
              "    }\n",
              "\n",
              "    .dataframe tbody tr th {\n",
              "        vertical-align: top;\n",
              "    }\n",
              "\n",
              "    .dataframe thead th {\n",
              "        text-align: right;\n",
              "    }\n",
              "</style>\n",
              "<table border=\"1\" class=\"dataframe\">\n",
              "  <thead>\n",
              "    <tr style=\"text-align: right;\">\n",
              "      <th></th>\n",
              "      <th>brand_name</th>\n",
              "      <th>has_5g</th>\n",
              "      <th>processor_brand</th>\n",
              "      <th>processor_speed</th>\n",
              "      <th>Battery</th>\n",
              "      <th>RAM</th>\n",
              "      <th>Storage</th>\n",
              "      <th>screen_size</th>\n",
              "      <th>num_rear_cameras</th>\n",
              "      <th>os</th>\n",
              "      <th>primary_camera_rear</th>\n",
              "      <th>primary_camera_front</th>\n",
              "      <th>price</th>\n",
              "    </tr>\n",
              "  </thead>\n",
              "  <tbody>\n",
              "    <tr>\n",
              "      <th>823</th>\n",
              "      <td>realme</td>\n",
              "      <td>True</td>\n",
              "      <td>dimensity</td>\n",
              "      <td>2.0</td>\n",
              "      <td>5000.0</td>\n",
              "      <td>4</td>\n",
              "      <td>128</td>\n",
              "      <td>6.5</td>\n",
              "      <td>3</td>\n",
              "      <td>android</td>\n",
              "      <td>13.0</td>\n",
              "      <td>8.0</td>\n",
              "      <td>9999</td>\n",
              "    </tr>\n",
              "    <tr>\n",
              "      <th>581</th>\n",
              "      <td>iqoo</td>\n",
              "      <td>True</td>\n",
              "      <td>snapdragon</td>\n",
              "      <td>3.2</td>\n",
              "      <td>4700.0</td>\n",
              "      <td>8</td>\n",
              "      <td>128</td>\n",
              "      <td>6.6</td>\n",
              "      <td>3</td>\n",
              "      <td>android</td>\n",
              "      <td>64.0</td>\n",
              "      <td>16.0</td>\n",
              "      <td>22990</td>\n",
              "    </tr>\n",
              "    <tr>\n",
              "      <th>333</th>\n",
              "      <td>poco</td>\n",
              "      <td>True</td>\n",
              "      <td>snapdragon</td>\n",
              "      <td>3.2</td>\n",
              "      <td>4500.0</td>\n",
              "      <td>6</td>\n",
              "      <td>128</td>\n",
              "      <td>6.7</td>\n",
              "      <td>3</td>\n",
              "      <td>android</td>\n",
              "      <td>64.0</td>\n",
              "      <td>20.0</td>\n",
              "      <td>25999</td>\n",
              "    </tr>\n",
              "    <tr>\n",
              "      <th>222</th>\n",
              "      <td>motorola</td>\n",
              "      <td>True</td>\n",
              "      <td>snapdragon</td>\n",
              "      <td>2.5</td>\n",
              "      <td>4020.0</td>\n",
              "      <td>8</td>\n",
              "      <td>128</td>\n",
              "      <td>6.5</td>\n",
              "      <td>3</td>\n",
              "      <td>android</td>\n",
              "      <td>50.0</td>\n",
              "      <td>32.0</td>\n",
              "      <td>24999</td>\n",
              "    </tr>\n",
              "    <tr>\n",
              "      <th>175</th>\n",
              "      <td>xiaomi</td>\n",
              "      <td>False</td>\n",
              "      <td>helio</td>\n",
              "      <td>2.0</td>\n",
              "      <td>5000.0</td>\n",
              "      <td>6</td>\n",
              "      <td>64</td>\n",
              "      <td>6.4</td>\n",
              "      <td>4</td>\n",
              "      <td>android</td>\n",
              "      <td>64.0</td>\n",
              "      <td>13.0</td>\n",
              "      <td>11999</td>\n",
              "    </tr>\n",
              "  </tbody>\n",
              "</table>\n",
              "</div>\n",
              "    <div class=\"colab-df-buttons\">\n",
              "\n",
              "  <div class=\"colab-df-container\">\n",
              "    <button class=\"colab-df-convert\" onclick=\"convertToInteractive('df-df134337-e813-46b7-9eda-39177d1f5969')\"\n",
              "            title=\"Convert this dataframe to an interactive table.\"\n",
              "            style=\"display:none;\">\n",
              "\n",
              "  <svg xmlns=\"http://www.w3.org/2000/svg\" height=\"24px\" viewBox=\"0 -960 960 960\">\n",
              "    <path d=\"M120-120v-720h720v720H120Zm60-500h600v-160H180v160Zm220 220h160v-160H400v160Zm0 220h160v-160H400v160ZM180-400h160v-160H180v160Zm440 0h160v-160H620v160ZM180-180h160v-160H180v160Zm440 0h160v-160H620v160Z\"/>\n",
              "  </svg>\n",
              "    </button>\n",
              "\n",
              "  <style>\n",
              "    .colab-df-container {\n",
              "      display:flex;\n",
              "      gap: 12px;\n",
              "    }\n",
              "\n",
              "    .colab-df-convert {\n",
              "      background-color: #E8F0FE;\n",
              "      border: none;\n",
              "      border-radius: 50%;\n",
              "      cursor: pointer;\n",
              "      display: none;\n",
              "      fill: #1967D2;\n",
              "      height: 32px;\n",
              "      padding: 0 0 0 0;\n",
              "      width: 32px;\n",
              "    }\n",
              "\n",
              "    .colab-df-convert:hover {\n",
              "      background-color: #E2EBFA;\n",
              "      box-shadow: 0px 1px 2px rgba(60, 64, 67, 0.3), 0px 1px 3px 1px rgba(60, 64, 67, 0.15);\n",
              "      fill: #174EA6;\n",
              "    }\n",
              "\n",
              "    .colab-df-buttons div {\n",
              "      margin-bottom: 4px;\n",
              "    }\n",
              "\n",
              "    [theme=dark] .colab-df-convert {\n",
              "      background-color: #3B4455;\n",
              "      fill: #D2E3FC;\n",
              "    }\n",
              "\n",
              "    [theme=dark] .colab-df-convert:hover {\n",
              "      background-color: #434B5C;\n",
              "      box-shadow: 0px 1px 3px 1px rgba(0, 0, 0, 0.15);\n",
              "      filter: drop-shadow(0px 1px 2px rgba(0, 0, 0, 0.3));\n",
              "      fill: #FFFFFF;\n",
              "    }\n",
              "  </style>\n",
              "\n",
              "    <script>\n",
              "      const buttonEl =\n",
              "        document.querySelector('#df-df134337-e813-46b7-9eda-39177d1f5969 button.colab-df-convert');\n",
              "      buttonEl.style.display =\n",
              "        google.colab.kernel.accessAllowed ? 'block' : 'none';\n",
              "\n",
              "      async function convertToInteractive(key) {\n",
              "        const element = document.querySelector('#df-df134337-e813-46b7-9eda-39177d1f5969');\n",
              "        const dataTable =\n",
              "          await google.colab.kernel.invokeFunction('convertToInteractive',\n",
              "                                                    [key], {});\n",
              "        if (!dataTable) return;\n",
              "\n",
              "        const docLinkHtml = 'Like what you see? Visit the ' +\n",
              "          '<a target=\"_blank\" href=https://colab.research.google.com/notebooks/data_table.ipynb>data table notebook</a>'\n",
              "          + ' to learn more about interactive tables.';\n",
              "        element.innerHTML = '';\n",
              "        dataTable['output_type'] = 'display_data';\n",
              "        await google.colab.output.renderOutput(dataTable, element);\n",
              "        const docLink = document.createElement('div');\n",
              "        docLink.innerHTML = docLinkHtml;\n",
              "        element.appendChild(docLink);\n",
              "      }\n",
              "    </script>\n",
              "  </div>\n",
              "\n",
              "\n",
              "<div id=\"df-2a53224d-f43a-4b32-8c9b-ecec1ad07d03\">\n",
              "  <button class=\"colab-df-quickchart\" onclick=\"quickchart('df-2a53224d-f43a-4b32-8c9b-ecec1ad07d03')\"\n",
              "            title=\"Suggest charts\"\n",
              "            style=\"display:none;\">\n",
              "\n",
              "<svg xmlns=\"http://www.w3.org/2000/svg\" height=\"24px\"viewBox=\"0 0 24 24\"\n",
              "     width=\"24px\">\n",
              "    <g>\n",
              "        <path d=\"M19 3H5c-1.1 0-2 .9-2 2v14c0 1.1.9 2 2 2h14c1.1 0 2-.9 2-2V5c0-1.1-.9-2-2-2zM9 17H7v-7h2v7zm4 0h-2V7h2v10zm4 0h-2v-4h2v4z\"/>\n",
              "    </g>\n",
              "</svg>\n",
              "  </button>\n",
              "\n",
              "<style>\n",
              "  .colab-df-quickchart {\n",
              "      --bg-color: #E8F0FE;\n",
              "      --fill-color: #1967D2;\n",
              "      --hover-bg-color: #E2EBFA;\n",
              "      --hover-fill-color: #174EA6;\n",
              "      --disabled-fill-color: #AAA;\n",
              "      --disabled-bg-color: #DDD;\n",
              "  }\n",
              "\n",
              "  [theme=dark] .colab-df-quickchart {\n",
              "      --bg-color: #3B4455;\n",
              "      --fill-color: #D2E3FC;\n",
              "      --hover-bg-color: #434B5C;\n",
              "      --hover-fill-color: #FFFFFF;\n",
              "      --disabled-bg-color: #3B4455;\n",
              "      --disabled-fill-color: #666;\n",
              "  }\n",
              "\n",
              "  .colab-df-quickchart {\n",
              "    background-color: var(--bg-color);\n",
              "    border: none;\n",
              "    border-radius: 50%;\n",
              "    cursor: pointer;\n",
              "    display: none;\n",
              "    fill: var(--fill-color);\n",
              "    height: 32px;\n",
              "    padding: 0;\n",
              "    width: 32px;\n",
              "  }\n",
              "\n",
              "  .colab-df-quickchart:hover {\n",
              "    background-color: var(--hover-bg-color);\n",
              "    box-shadow: 0 1px 2px rgba(60, 64, 67, 0.3), 0 1px 3px 1px rgba(60, 64, 67, 0.15);\n",
              "    fill: var(--button-hover-fill-color);\n",
              "  }\n",
              "\n",
              "  .colab-df-quickchart-complete:disabled,\n",
              "  .colab-df-quickchart-complete:disabled:hover {\n",
              "    background-color: var(--disabled-bg-color);\n",
              "    fill: var(--disabled-fill-color);\n",
              "    box-shadow: none;\n",
              "  }\n",
              "\n",
              "  .colab-df-spinner {\n",
              "    border: 2px solid var(--fill-color);\n",
              "    border-color: transparent;\n",
              "    border-bottom-color: var(--fill-color);\n",
              "    animation:\n",
              "      spin 1s steps(1) infinite;\n",
              "  }\n",
              "\n",
              "  @keyframes spin {\n",
              "    0% {\n",
              "      border-color: transparent;\n",
              "      border-bottom-color: var(--fill-color);\n",
              "      border-left-color: var(--fill-color);\n",
              "    }\n",
              "    20% {\n",
              "      border-color: transparent;\n",
              "      border-left-color: var(--fill-color);\n",
              "      border-top-color: var(--fill-color);\n",
              "    }\n",
              "    30% {\n",
              "      border-color: transparent;\n",
              "      border-left-color: var(--fill-color);\n",
              "      border-top-color: var(--fill-color);\n",
              "      border-right-color: var(--fill-color);\n",
              "    }\n",
              "    40% {\n",
              "      border-color: transparent;\n",
              "      border-right-color: var(--fill-color);\n",
              "      border-top-color: var(--fill-color);\n",
              "    }\n",
              "    60% {\n",
              "      border-color: transparent;\n",
              "      border-right-color: var(--fill-color);\n",
              "    }\n",
              "    80% {\n",
              "      border-color: transparent;\n",
              "      border-right-color: var(--fill-color);\n",
              "      border-bottom-color: var(--fill-color);\n",
              "    }\n",
              "    90% {\n",
              "      border-color: transparent;\n",
              "      border-bottom-color: var(--fill-color);\n",
              "    }\n",
              "  }\n",
              "</style>\n",
              "\n",
              "  <script>\n",
              "    async function quickchart(key) {\n",
              "      const quickchartButtonEl =\n",
              "        document.querySelector('#' + key + ' button');\n",
              "      quickchartButtonEl.disabled = true;  // To prevent multiple clicks.\n",
              "      quickchartButtonEl.classList.add('colab-df-spinner');\n",
              "      try {\n",
              "        const charts = await google.colab.kernel.invokeFunction(\n",
              "            'suggestCharts', [key], {});\n",
              "      } catch (error) {\n",
              "        console.error('Error during call to suggestCharts:', error);\n",
              "      }\n",
              "      quickchartButtonEl.classList.remove('colab-df-spinner');\n",
              "      quickchartButtonEl.classList.add('colab-df-quickchart-complete');\n",
              "    }\n",
              "    (() => {\n",
              "      let quickchartButtonEl =\n",
              "        document.querySelector('#df-2a53224d-f43a-4b32-8c9b-ecec1ad07d03 button');\n",
              "      quickchartButtonEl.style.display =\n",
              "        google.colab.kernel.accessAllowed ? 'block' : 'none';\n",
              "    })();\n",
              "  </script>\n",
              "</div>\n",
              "\n",
              "    </div>\n",
              "  </div>\n"
            ],
            "application/vnd.google.colaboratory.intrinsic+json": {
              "type": "dataframe",
              "summary": "{\n  \"name\": \"df\",\n  \"rows\": 5,\n  \"fields\": [\n    {\n      \"column\": \"brand_name\",\n      \"properties\": {\n        \"dtype\": \"string\",\n        \"num_unique_values\": 5,\n        \"samples\": [\n          \"iqoo\",\n          \"xiaomi\",\n          \"poco\"\n        ],\n        \"semantic_type\": \"\",\n        \"description\": \"\"\n      }\n    },\n    {\n      \"column\": \"has_5g\",\n      \"properties\": {\n        \"dtype\": \"boolean\",\n        \"num_unique_values\": 2,\n        \"samples\": [\n          false,\n          true\n        ],\n        \"semantic_type\": \"\",\n        \"description\": \"\"\n      }\n    },\n    {\n      \"column\": \"processor_brand\",\n      \"properties\": {\n        \"dtype\": \"string\",\n        \"num_unique_values\": 3,\n        \"samples\": [\n          \"dimensity\",\n          \"snapdragon\"\n        ],\n        \"semantic_type\": \"\",\n        \"description\": \"\"\n      }\n    },\n    {\n      \"column\": \"processor_speed\",\n      \"properties\": {\n        \"dtype\": \"number\",\n        \"std\": 0.601664358259653,\n        \"min\": 2.0,\n        \"max\": 3.2,\n        \"num_unique_values\": 3,\n        \"samples\": [\n          2.0,\n          3.2\n        ],\n        \"semantic_type\": \"\",\n        \"description\": \"\"\n      }\n    },\n    {\n      \"column\": \"Battery\",\n      \"properties\": {\n        \"dtype\": \"number\",\n        \"std\": 408.264620068896,\n        \"min\": 4020.0,\n        \"max\": 5000.0,\n        \"num_unique_values\": 4,\n        \"samples\": [\n          4700.0,\n          4020.0\n        ],\n        \"semantic_type\": \"\",\n        \"description\": \"\"\n      }\n    },\n    {\n      \"column\": \"RAM\",\n      \"properties\": {\n        \"dtype\": \"number\",\n        \"std\": 1,\n        \"min\": 4,\n        \"max\": 8,\n        \"num_unique_values\": 3,\n        \"samples\": [\n          4,\n          8\n        ],\n        \"semantic_type\": \"\",\n        \"description\": \"\"\n      }\n    },\n    {\n      \"column\": \"Storage\",\n      \"properties\": {\n        \"dtype\": \"number\",\n        \"std\": 28,\n        \"min\": 64,\n        \"max\": 128,\n        \"num_unique_values\": 2,\n        \"samples\": [\n          64,\n          128\n        ],\n        \"semantic_type\": \"\",\n        \"description\": \"\"\n      }\n    },\n    {\n      \"column\": \"screen_size\",\n      \"properties\": {\n        \"dtype\": \"number\",\n        \"std\": 0.11401754250991371,\n        \"min\": 6.4,\n        \"max\": 6.7,\n        \"num_unique_values\": 4,\n        \"samples\": [\n          6.6,\n          6.4\n        ],\n        \"semantic_type\": \"\",\n        \"description\": \"\"\n      }\n    },\n    {\n      \"column\": \"num_rear_cameras\",\n      \"properties\": {\n        \"dtype\": \"number\",\n        \"std\": 0,\n        \"min\": 3,\n        \"max\": 4,\n        \"num_unique_values\": 2,\n        \"samples\": [\n          4,\n          3\n        ],\n        \"semantic_type\": \"\",\n        \"description\": \"\"\n      }\n    },\n    {\n      \"column\": \"os\",\n      \"properties\": {\n        \"dtype\": \"category\",\n        \"num_unique_values\": 1,\n        \"samples\": [\n          \"android\"\n        ],\n        \"semantic_type\": \"\",\n        \"description\": \"\"\n      }\n    },\n    {\n      \"column\": \"primary_camera_rear\",\n      \"properties\": {\n        \"dtype\": \"number\",\n        \"std\": 22.090722034374522,\n        \"min\": 13.0,\n        \"max\": 64.0,\n        \"num_unique_values\": 3,\n        \"samples\": [\n          13.0\n        ],\n        \"semantic_type\": \"\",\n        \"description\": \"\"\n      }\n    },\n    {\n      \"column\": \"primary_camera_front\",\n      \"properties\": {\n        \"dtype\": \"number\",\n        \"std\": 9.06642156531451,\n        \"min\": 8.0,\n        \"max\": 32.0,\n        \"num_unique_values\": 5,\n        \"samples\": [\n          16.0\n        ],\n        \"semantic_type\": \"\",\n        \"description\": \"\"\n      }\n    },\n    {\n      \"column\": \"price\",\n      \"properties\": {\n        \"dtype\": \"number\",\n        \"std\": 7594,\n        \"min\": 9999,\n        \"max\": 25999,\n        \"num_unique_values\": 5,\n        \"samples\": [\n          22990\n        ],\n        \"semantic_type\": \"\",\n        \"description\": \"\"\n      }\n    }\n  ]\n}"
            }
          },
          "metadata": {},
          "execution_count": 122
        }
      ]
    },
    {
      "cell_type": "code",
      "source": [
        "null_counts = df.isnull().sum()\n",
        "print(null_counts)"
      ],
      "metadata": {
        "colab": {
          "base_uri": "https://localhost:8080/"
        },
        "id": "DCCv8ntLXrxx",
        "outputId": "34329447-1412-4d12-82a5-bc38d6b474bf"
      },
      "execution_count": 123,
      "outputs": [
        {
          "output_type": "stream",
          "name": "stdout",
          "text": [
            "brand_name               0\n",
            "has_5g                   0\n",
            "processor_brand         20\n",
            "processor_speed         42\n",
            "Battery                 11\n",
            "RAM                      0\n",
            "Storage                  0\n",
            "screen_size              0\n",
            "num_rear_cameras         0\n",
            "os                       1\n",
            "primary_camera_rear      0\n",
            "primary_camera_front     5\n",
            "price                    0\n",
            "dtype: int64\n"
          ]
        }
      ]
    },
    {
      "cell_type": "code",
      "source": [
        "def mode_based_imputation(row):\n",
        "    if pd.isna(row['processor_brand']):\n",
        "        # Find the mode based on the same Annual Income and Gender\n",
        "        mode_value = df[(df['brand_name'] == row['brand_name']) & (df['RAM'] == row['RAM'])]['processor_brand'].mode()\n",
        "        if not mode_value.empty:\n",
        "            return mode_value.iloc[0]\n",
        "        else:\n",
        "            return np.nan  # If no mode is found, return NaN\n",
        "    else:\n",
        "        return row['processor_brand']"
      ],
      "metadata": {
        "id": "OpWx0Ci08HJh"
      },
      "execution_count": 124,
      "outputs": []
    },
    {
      "cell_type": "code",
      "source": [
        "df['processor_brand'] = df.apply(mode_based_imputation,axis=1)"
      ],
      "metadata": {
        "id": "muHJDOhB9z1H"
      },
      "execution_count": 125,
      "outputs": []
    },
    {
      "cell_type": "code",
      "source": [
        "df['processor_brand'].isna().sum()"
      ],
      "metadata": {
        "colab": {
          "base_uri": "https://localhost:8080/"
        },
        "id": "Tc7PJU8B9_9s",
        "outputId": "280e08b4-dd7c-4b99-e2dc-3656c5b3c0a6"
      },
      "execution_count": 126,
      "outputs": [
        {
          "output_type": "execute_result",
          "data": {
            "text/plain": [
              "4"
            ]
          },
          "metadata": {},
          "execution_count": 126
        }
      ]
    },
    {
      "cell_type": "code",
      "source": [
        "def mode_based_imputation(row):\n",
        "    if pd.isna(row['processor_brand']):\n",
        "        # Find the mode based on the same Annual Income and Gender\n",
        "        mode_value = df[(df['has_5g'] == row['has_5g'])]['processor_brand'].mode()\n",
        "        if not mode_value.empty:\n",
        "            return mode_value.iloc[0]\n",
        "        else:\n",
        "            return np.nan  # If no mode is found, return NaN\n",
        "    else:\n",
        "        return row['processor_brand']"
      ],
      "metadata": {
        "id": "ziJ97LFpY3HZ"
      },
      "execution_count": 127,
      "outputs": []
    },
    {
      "cell_type": "code",
      "source": [
        "df['processor_brand'] = df.apply(mode_based_imputation,axis=1)"
      ],
      "metadata": {
        "id": "5NRhOGmUZFzD"
      },
      "execution_count": 128,
      "outputs": []
    },
    {
      "cell_type": "code",
      "source": [
        "df['processor_brand'].isna().sum()"
      ],
      "metadata": {
        "colab": {
          "base_uri": "https://localhost:8080/"
        },
        "id": "vbyesUQ8ZHzZ",
        "outputId": "dfd82aea-b731-419f-fd91-5e394907e96f"
      },
      "execution_count": 129,
      "outputs": [
        {
          "output_type": "execute_result",
          "data": {
            "text/plain": [
              "0"
            ]
          },
          "metadata": {},
          "execution_count": 129
        }
      ]
    },
    {
      "cell_type": "code",
      "source": [
        "def mode_based_imputation(row):\n",
        "    if pd.isna(row['processor_speed']):\n",
        "        # Find the mode based on the same Annual Income and Gender\n",
        "        mode_value = df[(df['processor_brand'] == row['processor_brand'])]['processor_speed'].mode()\n",
        "        if not mode_value.empty:\n",
        "            return mode_value.iloc[0]\n",
        "        else:\n",
        "            return np.nan  # If no mode is found, return NaN\n",
        "    else:\n",
        "        return row['processor_speed']"
      ],
      "metadata": {
        "id": "xHmxHja8ZRIJ"
      },
      "execution_count": 130,
      "outputs": []
    },
    {
      "cell_type": "code",
      "source": [
        "df['processor_speed'] = df.apply(mode_based_imputation,axis=1)"
      ],
      "metadata": {
        "id": "8X9NErCfYcWx"
      },
      "execution_count": 131,
      "outputs": []
    },
    {
      "cell_type": "code",
      "source": [
        "df['processor_speed'].isna().sum()"
      ],
      "metadata": {
        "colab": {
          "base_uri": "https://localhost:8080/"
        },
        "id": "6OQNNZZZZrqe",
        "outputId": "f03b07c4-dd82-4abc-9935-f4e0b6991187"
      },
      "execution_count": 132,
      "outputs": [
        {
          "output_type": "execute_result",
          "data": {
            "text/plain": [
              "0"
            ]
          },
          "metadata": {},
          "execution_count": 132
        }
      ]
    },
    {
      "cell_type": "code",
      "source": [
        "null_counts = df.isnull().sum()\n",
        "print(null_counts)"
      ],
      "metadata": {
        "colab": {
          "base_uri": "https://localhost:8080/"
        },
        "id": "UppTUbroZxQq",
        "outputId": "a46431d0-5b8d-414f-a45a-5711501622f1"
      },
      "execution_count": 133,
      "outputs": [
        {
          "output_type": "stream",
          "name": "stdout",
          "text": [
            "brand_name               0\n",
            "has_5g                   0\n",
            "processor_brand          0\n",
            "processor_speed          0\n",
            "Battery                 11\n",
            "RAM                      0\n",
            "Storage                  0\n",
            "screen_size              0\n",
            "num_rear_cameras         0\n",
            "os                       1\n",
            "primary_camera_rear      0\n",
            "primary_camera_front     5\n",
            "price                    0\n",
            "dtype: int64\n"
          ]
        }
      ]
    },
    {
      "cell_type": "code",
      "source": [
        "def mode_based_imputation(row):\n",
        "    if pd.isna(row['Battery']):\n",
        "        # Find the mode based on the same Annual Income and Gender\n",
        "        mode_value = df[(df['brand_name'] == row['brand_name']) & (df['RAM'] == row['RAM'])]['Battery'].mode()\n",
        "        if not mode_value.empty:\n",
        "            return mode_value.iloc[0]\n",
        "        else:\n",
        "            return np.nan  # If no mode is found, return NaN\n",
        "    else:\n",
        "        return row['Battery']"
      ],
      "metadata": {
        "id": "24heI57caw9f"
      },
      "execution_count": 134,
      "outputs": []
    },
    {
      "cell_type": "code",
      "source": [
        "df['Battery'] = df.apply(mode_based_imputation,axis=1)\n",
        "df['Battery'].isna().sum()"
      ],
      "metadata": {
        "colab": {
          "base_uri": "https://localhost:8080/"
        },
        "id": "HsVHBJcSbNiA",
        "outputId": "0c39fb37-62cc-401c-8dc3-94e639030399"
      },
      "execution_count": 135,
      "outputs": [
        {
          "output_type": "execute_result",
          "data": {
            "text/plain": [
              "0"
            ]
          },
          "metadata": {},
          "execution_count": 135
        }
      ]
    },
    {
      "cell_type": "code",
      "source": [
        "def mode_based_imputation(row):\n",
        "    if pd.isna(row['primary_camera_front']):\n",
        "        # Find the mode based on the same Annual Income and Gender\n",
        "        mode_value = df[(df['brand_name'] == row['brand_name']) ]['primary_camera_front'].mode()\n",
        "        if not mode_value.empty:\n",
        "            return mode_value.iloc[0]\n",
        "        else:\n",
        "            return np.nan  # If no mode is found, return NaN\n",
        "    else:\n",
        "        return row['primary_camera_front']"
      ],
      "metadata": {
        "id": "vkVpvQenbaaE"
      },
      "execution_count": 136,
      "outputs": []
    },
    {
      "cell_type": "code",
      "source": [
        "df['primary_camera_front'] = df.apply(mode_based_imputation,axis=1)\n",
        "df['primary_camera_front'].isna().sum()"
      ],
      "metadata": {
        "colab": {
          "base_uri": "https://localhost:8080/"
        },
        "id": "y2UBsCWMbiQN",
        "outputId": "066c2e81-de8e-4de8-c963-a12f02d53b1d"
      },
      "execution_count": 137,
      "outputs": [
        {
          "output_type": "execute_result",
          "data": {
            "text/plain": [
              "0"
            ]
          },
          "metadata": {},
          "execution_count": 137
        }
      ]
    },
    {
      "cell_type": "code",
      "source": [
        "df[\"os\"] = df[\"os\"].fillna(\"android\")\n"
      ],
      "metadata": {
        "id": "WFYLkQyIcBIr"
      },
      "execution_count": 138,
      "outputs": []
    },
    {
      "cell_type": "code",
      "source": [
        "null_counts = df.isnull().sum()\n",
        "print(null_counts)"
      ],
      "metadata": {
        "colab": {
          "base_uri": "https://localhost:8080/"
        },
        "id": "e5z5ksBncBFS",
        "outputId": "773897c0-173f-4f59-fe07-9b58813145c6"
      },
      "execution_count": 139,
      "outputs": [
        {
          "output_type": "stream",
          "name": "stdout",
          "text": [
            "brand_name              0\n",
            "has_5g                  0\n",
            "processor_brand         0\n",
            "processor_speed         0\n",
            "Battery                 0\n",
            "RAM                     0\n",
            "Storage                 0\n",
            "screen_size             0\n",
            "num_rear_cameras        0\n",
            "os                      0\n",
            "primary_camera_rear     0\n",
            "primary_camera_front    0\n",
            "price                   0\n",
            "dtype: int64\n"
          ]
        }
      ]
    },
    {
      "cell_type": "code",
      "source": [
        "csv_file_path = 'smartphonecleaned_data.csv'\n",
        "df.to_csv(csv_file_path, index=False)"
      ],
      "metadata": {
        "id": "u6l6peAIBCFp"
      },
      "execution_count": 140,
      "outputs": []
    },
    {
      "cell_type": "code",
      "source": [],
      "metadata": {
        "id": "dmZWhtLtBvzh"
      },
      "execution_count": 140,
      "outputs": []
    }
  ]
}